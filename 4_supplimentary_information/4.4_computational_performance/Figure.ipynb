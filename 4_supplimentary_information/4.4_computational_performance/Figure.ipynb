{
 "cells": [
  {
   "cell_type": "markdown",
   "metadata": {},
   "source": [
    "# computational timing\n",
    "- This script is used to visualize computational performance;"
   ]
  },
  {
   "cell_type": "code",
   "execution_count": 1,
   "metadata": {},
   "outputs": [],
   "source": [
    "import os\n",
    "import xarray as xr\n",
    "import numpy as np\n",
    "import pandas as pd\n",
    "import matplotlib.pyplot as plt\n",
    "from matplotlib.ticker import MultipleLocator"
   ]
  },
  {
   "cell_type": "code",
   "execution_count": 2,
   "metadata": {},
   "outputs": [],
   "source": [
    "node = [1, 4, 6, 8, 12, 16]\n",
    "\n",
    "con_Model_Cost =    [ 56.61,  93.61,  123.58, 148.67,  215.46,  285.44]\n",
    "con_Model_Ini =     [ 16.261, 70.523, 97.193, 101.357, 130.177, 135.605]\n",
    "con_Model_runtime = [ 4.362,  1.803,  1.587,  1.432,   1.384,   1.375]\n",
    "\n",
    "dyn_Model_Cost =    [ 56.53,  93.69,  122.07, 148.27,  214.63,  283.37]\n",
    "dyn_Model_Ini =     [ 20.234, 72.804, 95.508, 98.318, 125.408, 135.842]\n",
    "dyn_Model_runtime = [ 4.356,  1.805,  1.568,  1.428,   1.378,   1.365]\n",
    "\n",
    "# Model Cost:            pe-hrs/simulated_year\n",
    "# Run Time:          seconds/simulated_day \n",
    "data = [[con_Model_Cost, dyn_Model_Cost],[con_Model_Ini, dyn_Model_Ini],[con_Model_runtime, dyn_Model_runtime]]"
   ]
  },
  {
   "cell_type": "code",
   "execution_count": 3,
   "metadata": {},
   "outputs": [],
   "source": [
    "# drawing\n",
    "linewidth=0.5\n",
    "fontsize = 6\n",
    "labelfont = 6\n",
    "start_year = 2015\n",
    "end_year = 2099\n",
    "pad=1\n",
    "handletextpad=0.5\n",
    "labelcolor = '#6b6b6b'\n",
    "lc1 = '#6e1913'\n",
    "lc2 = '#a42018'\n",
    "lc3 = '#f62d18'\n",
    "lc4 = '#d97c26'\n",
    "lc5 = '#ff912b'\n",
    "lc6 = '#30b5d6'\n",
    "lc7 = '#28ac92'\n",
    "lc8 = '#123264'\n",
    "lc9 = '#05101f'\n",
    "minor_locator = MultipleLocator(10)\n",
    "specific_years = [2015, 2050, 2100]\n",
    "alpha=0.075\n",
    "markersize = 2\n",
    "marker = 'o'\n",
    "markerfacecolor = 'white'\n",
    "linestyle='dashed'\n",
    "padding = 4\n",
    "title = ['(a) COST', '(b) INITIAL', '(c) SPEED']\n",
    "la = ['pe-hrs/m-year', 's', 'm-s/day']\n",
    "label = ['CNTL', 'ROOF_DA']\n",
    "lc = [lc1, lc7]"
   ]
  },
  {
   "cell_type": "code",
   "execution_count": 4,
   "metadata": {},
   "outputs": [
    {
     "data": {
      "image/png": "[encoded data removed]",
      "text/plain": [
       "<Figure size 550x150 with 3 Axes>"
      ]
     },
     "metadata": {},
     "output_type": "display_data"
    }
   ],
   "source": [
    "fig, axes = plt.subplots(nrows=1, ncols=3, figsize=(5.5, 1.5))\n",
    "\n",
    "for i in range(3):\n",
    "    for j in range(2):\n",
    "        axes[i].plot(node, data[i][j], marker=marker, markerfacecolor=markerfacecolor, markersize = markersize, linewidth=linewidth,label=label[j],color=lc[j])\n",
    "    axes[i].set_title(title[i],fontsize=fontsize,color=labelcolor, pad = padding)\n",
    "    axes[i].set_xticks(node)\n",
    "    axes[i].tick_params(axis='x', which='both', top=False, bottom=True, labelbottom=True, labelcolor=labelcolor, labelsize=labelfont,pad=pad)\n",
    "    axes[i].spines['left'].set_visible(False)\n",
    "    axes[i].spines['top'].set_visible(False)\n",
    "    axes[i].spines['right'].set_visible(False)\n",
    "    axes[i].spines['bottom'].set_color(labelcolor)\n",
    "    axes[i].tick_params(axis='y', which='both', left=False, right=False, labelleft=True, labelcolor=labelcolor, labelsize=labelfont,pad=pad)\n",
    "    axes[i].grid(True, which='major', axis='y',linestyle='--',linewidth=linewidth, alpha=0.5)\n",
    "    axes[i].set_ylabel(la[i], labelpad=5, rotation=0, ha='center', fontsize=labelfont,color=labelcolor)\n",
    "    axes[i].yaxis.set_label_coords(0, 1.05)\n",
    "\n",
    "lines, labels = axes[0].get_legend_handles_labels()                \n",
    "legend = fig.legend(lines, labels, bbox_to_anchor=(0.5, 0.005), loc='lower center', frameon=False, handletextpad=handletextpad, fontsize=labelfont, ncol = 2)\n",
    "\n",
    "for i, text in enumerate(legend.get_texts()):\n",
    "    text.set_color(lc[i])\n",
    "\n",
    "plt.subplots_adjust(left=0.07, right=0.975, bottom=0.25, top=0.85, wspace=0.32, hspace=0.8)\n",
    "    \n",
    "plt.show()\n",
    "fig.savefig('computation_performance.png', dpi=300)"
   ]
  },
  {
   "cell_type": "code",
   "execution_count": 9,
   "metadata": {},
   "outputs": [],
   "source": [
    "fig.savefig('computation_performance.pdf', dpi=600)"
   ]
  },
  {
   "cell_type": "code",
   "execution_count": null,
   "metadata": {},
   "outputs": [],
   "source": []
  }
 ],
 "metadata": {
  "kernelspec": {
   "display_name": "Python 3 (ipykernel)",
   "language": "python",
   "name": "python3"
  },
  "language_info": {
   "codemirror_mode": {
    "name": "ipython",
    "version": 3
   },
   "file_extension": ".py",
   "mimetype": "text/x-python",
   "name": "python",
   "nbconvert_exporter": "python",
   "pygments_lexer": "ipython3",
   "version": "3.9.13"
  }
 },
 "nbformat": 4,
 "nbformat_minor": 4
}
