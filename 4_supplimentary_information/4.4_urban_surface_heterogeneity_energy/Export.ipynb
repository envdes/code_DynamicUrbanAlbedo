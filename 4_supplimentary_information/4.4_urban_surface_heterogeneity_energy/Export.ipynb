{
 "cells": [
  {
   "cell_type": "markdown",
   "metadata": {},
   "source": [
    "# Export heat flux variables\n",
    "- This script is used to export heat variables;\n",
    "- Simulations: CNTL, ROOF_TV, IMPRAOD_TV, WALL_TV, ROOF_IMPROAD_TV, ROOF_IMPORAD_WALL_TV;"
   ]
  },
  {
   "cell_type": "code",
   "execution_count": 1,
   "metadata": {},
   "outputs": [],
   "source": [
    "import os\n",
    "import xarray as xr\n",
    "import numpy as np\n",
    "import pandas as pd\n",
    "import cftime"
   ]
  },
  {
   "cell_type": "code",
   "execution_count": 2,
   "metadata": {},
   "outputs": [],
   "source": [
    "home_path = '/work/n02/n02/yuansun/'\n",
    "#case0\n",
    "path_0 = home_path + 'cesm/archive/case0/lnd/hist/'\n",
    "#case2\n",
    "path_2 = home_path + 'cesm/archive/case2/lnd/hist/'\n",
    "#case3\n",
    "path_3 = home_path + 'cesm/archive/case3/lnd/hist/'\n",
    "#case4\n",
    "path_4 = home_path + 'cesm/archive/case4/lnd/hist/'\n",
    "#case5\n",
    "path_5 = home_path + 'cesm/archive/case5/lnd/hist/'\n",
    "#case6\n",
    "path_6 = home_path + 'cesm/archive/case6/lnd/hist/'\n",
    "# surface\n",
    "sfile = home_path + 'cesm/cesm_inputdata/lnd/clm2/surfdata_map/release-clm5.0.18/surfdata_0.9x1.25_hist_16pfts_Irrig_CMIP6_simyr1850_c190214.nc'"
   ]
  },
  {
   "cell_type": "code",
   "execution_count": 3,
   "metadata": {},
   "outputs": [],
   "source": [
    "start_year = 2015\n",
    "end_year = 2100\n",
    "ds_0 = xr.open_dataset(sfile)\n",
    "mask = np.any(ds_0['PCT_URBAN'] != 0, axis=0)\n",
    "mask = mask.rename({'lsmlat': 'lat', 'lsmlon': 'lon'})"
   ]
  },
  {
   "cell_type": "code",
   "execution_count": 4,
   "metadata": {},
   "outputs": [],
   "source": [
    "# case0\n",
    "result_data_0_list = []\n",
    "for year in range(start_year,end_year):\n",
    "    fn = 'case0.clm2.h1.' + '%04.0f' % year + '-02-01-00000.nc'\n",
    "    if(os.path.exists(path_0+fn)):\n",
    "        ds = xr.open_dataset(path_0+fn)\n",
    "        FIRA = ds['FIRA_U'].mean().values\n",
    "        FSA = ds['FSA_U'].mean().values\n",
    "        FSH = ds['FSH_U'].mean().values\n",
    "        EFLX = ds['EFLX_LH_TOT_U'].mean().values\n",
    "        FGR = ds['FGR_U'].mean().values\n",
    "        AC = ds['URBAN_AC'].where(mask).mean().values\n",
    "        HEAT = ds['URBAN_HEAT'].where(mask).mean().values\n",
    "        WASTEHEAT = ds['WASTEHEAT'].where(mask).mean().values\n",
    "        \n",
    "        year_data = {\n",
    "            'year': year,\n",
    "            'FIRA0': FIRA,\n",
    "            'FSA0': FSA,\n",
    "            'FSH0': FSH,\n",
    "            'EFLX0': EFLX,\n",
    "            'AC0': AC,\n",
    "            'HEAT0': HEAT,\n",
    "            'WASTEHEAT0': WASTEHEAT,\n",
    "            'AHF0': HEAT + WASTEHEAT,\n",
    "            'FGR0': FGR\n",
    "        }\n",
    "    result_data_0_list.append(year_data)\n",
    "\n",
    "result_data_0 = pd.DataFrame(result_data_0_list)     "
   ]
  },
  {
   "cell_type": "code",
   "execution_count": 5,
   "metadata": {},
   "outputs": [],
   "source": [
    "result_data_0.to_csv('flux0.csv')"
   ]
  },
  {
   "cell_type": "code",
   "execution_count": 6,
   "metadata": {},
   "outputs": [],
   "source": [
    "# case2\n",
    "result_data_2_list = []\n",
    "for year in range(start_year,end_year):\n",
    "    fn = 'case2.clm2.h1.' + '%04.0f' % year + '-02-01-00000.nc'\n",
    "    if(os.path.exists(path_2+fn)):\n",
    "        ds = xr.open_dataset(path_2+fn)\n",
    "        FIRA = ds['FIRA_U'].mean().values\n",
    "        FSA = ds['FSA_U'].mean().values\n",
    "        FSH = ds['FSH_U'].mean().values\n",
    "        EFLX = ds['EFLX_LH_TOT_U'].mean().values\n",
    "        FGR = ds['FGR_U'].mean().values\n",
    "        AC = ds['URBAN_AC'].where(mask).mean().values\n",
    "        HEAT = ds['URBAN_HEAT'].where(mask).mean().values\n",
    "        WASTEHEAT = ds['WASTEHEAT'].where(mask).mean().values\n",
    "        \n",
    "        year_data = {\n",
    "            'year': year,\n",
    "            'FIRA2': FIRA,\n",
    "            'FSA2': FSA,\n",
    "            'FSH2': FSH,\n",
    "            'EFLX2': EFLX,\n",
    "            'AC2': AC,\n",
    "            'HEAT2': HEAT,\n",
    "            'WASTEHEAT2': WASTEHEAT,\n",
    "            'AHF2': HEAT + WASTEHEAT,\n",
    "            'FGR2': FGR\n",
    "        }\n",
    "    result_data_2_list.append(year_data)\n",
    "\n",
    "result_data_2 = pd.DataFrame(result_data_2_list)"
   ]
  },
  {
   "cell_type": "code",
   "execution_count": 7,
   "metadata": {},
   "outputs": [],
   "source": [
    "result_data_2.to_csv('flux2.csv')"
   ]
  },
  {
   "cell_type": "code",
   "execution_count": 8,
   "metadata": {},
   "outputs": [],
   "source": [
    "# case3\n",
    "result_data_3_list = []\n",
    "for year in range(start_year,end_year):\n",
    "    fn = 'case3.clm2.h1.' + '%04.0f' % year + '-02-01-00000.nc'\n",
    "    if(os.path.exists(path_3+fn)):\n",
    "        ds = xr.open_dataset(path_3+fn)\n",
    "        FIRA = ds['FIRA_U'].mean().values\n",
    "        FSA = ds['FSA_U'].mean().values\n",
    "        FSH = ds['FSH_U'].mean().values\n",
    "        EFLX = ds['EFLX_LH_TOT_U'].mean().values\n",
    "        FGR = ds['FGR_U'].mean().values\n",
    "        AC = ds['URBAN_AC'].where(mask).mean().values\n",
    "        HEAT = ds['URBAN_HEAT'].where(mask).mean().values\n",
    "        WASTEHEAT = ds['WASTEHEAT'].where(mask).mean().values\n",
    "        \n",
    "        year_data = {\n",
    "            'year': year,\n",
    "            'FIRA3': FIRA,\n",
    "            'FSA3': FSA,\n",
    "            'FSH3': FSH,\n",
    "            'EFLX3': EFLX,\n",
    "            'AC3': AC,\n",
    "            'HEAT3': HEAT,\n",
    "            'WASTEHEAT3': WASTEHEAT,\n",
    "            'AHF3': HEAT + WASTEHEAT,\n",
    "            'FGR3': FGR\n",
    "        }\n",
    "    result_data_3_list.append(year_data)\n",
    "\n",
    "result_data_3 = pd.DataFrame(result_data_3_list)"
   ]
  },
  {
   "cell_type": "code",
   "execution_count": 9,
   "metadata": {},
   "outputs": [],
   "source": [
    "result_data_3.to_csv('flux3.csv')"
   ]
  },
  {
   "cell_type": "code",
   "execution_count": 10,
   "metadata": {},
   "outputs": [],
   "source": [
    "# case4\n",
    "result_data_4_list = []\n",
    "for year in range(start_year,end_year):\n",
    "    fn = 'case4.clm2.h1.' + '%04.0f' % year + '-02-01-00000.nc'\n",
    "    if(os.path.exists(path_4+fn)):\n",
    "        ds = xr.open_dataset(path_4+fn)\n",
    "        FIRA = ds['FIRA_U'].mean().values\n",
    "        FSA = ds['FSA_U'].mean().values\n",
    "        FSH = ds['FSH_U'].mean().values\n",
    "        EFLX = ds['EFLX_LH_TOT_U'].mean().values\n",
    "        FGR = ds['FGR_U'].mean().values\n",
    "        AC = ds['URBAN_AC'].where(mask).mean().values\n",
    "        HEAT = ds['URBAN_HEAT'].where(mask).mean().values\n",
    "        WASTEHEAT = ds['WASTEHEAT'].where(mask).mean().values\n",
    "        \n",
    "        year_data = {\n",
    "            'year': year,\n",
    "            'FIRA4': FIRA,\n",
    "            'FSA4': FSA,\n",
    "            'FSH4': FSH,\n",
    "            'EFLX4': EFLX,\n",
    "            'AC4': AC,\n",
    "            'HEAT4': HEAT,\n",
    "            'WASTEHEAT4': WASTEHEAT,\n",
    "            'AHF4': HEAT + WASTEHEAT,\n",
    "            'FGR4': FGR\n",
    "        }\n",
    "    result_data_4_list.append(year_data)\n",
    "\n",
    "result_data_4 = pd.DataFrame(result_data_4_list)"
   ]
  },
  {
   "cell_type": "code",
   "execution_count": 11,
   "metadata": {},
   "outputs": [],
   "source": [
    "result_data_4.to_csv('flux4.csv')"
   ]
  },
  {
   "cell_type": "code",
   "execution_count": 12,
   "metadata": {},
   "outputs": [],
   "source": [
    "# case5\n",
    "result_data_5_list = []\n",
    "for year in range(start_year,end_year):\n",
    "    fn = 'case5.clm2.h1.' + '%04.0f' % year + '-02-01-00000.nc'\n",
    "    if(os.path.exists(path_5+fn)):\n",
    "        ds = xr.open_dataset(path_5+fn)\n",
    "        FIRA = ds['FIRA_U'].mean().values\n",
    "        FSA = ds['FSA_U'].mean().values\n",
    "        FSH = ds['FSH_U'].mean().values\n",
    "        EFLX = ds['EFLX_LH_TOT_U'].mean().values\n",
    "        FGR = ds['FGR_U'].mean().values\n",
    "        AC = ds['URBAN_AC'].where(mask).mean().values\n",
    "        HEAT = ds['URBAN_HEAT'].where(mask).mean().values\n",
    "        WASTEHEAT = ds['WASTEHEAT'].where(mask).mean().values\n",
    "        \n",
    "        year_data = {\n",
    "            'year': year,\n",
    "            'FIRA5': FIRA,\n",
    "            'FSA5': FSA,\n",
    "            'FSH5': FSH,\n",
    "            'EFLX5': EFLX,\n",
    "            'AC5': AC,\n",
    "            'HEAT5': HEAT,\n",
    "            'WASTEHEAT5': WASTEHEAT,\n",
    "            'AHF5': HEAT + WASTEHEAT,\n",
    "            'FGR5': FGR\n",
    "        }\n",
    "    result_data_5_list.append(year_data)\n",
    "\n",
    "result_data_5 = pd.DataFrame(result_data_5_list)"
   ]
  },
  {
   "cell_type": "code",
   "execution_count": 13,
   "metadata": {},
   "outputs": [],
   "source": [
    "result_data_5.to_csv('flux5.csv')"
   ]
  },
  {
   "cell_type": "code",
   "execution_count": 14,
   "metadata": {},
   "outputs": [],
   "source": [
    "# case6\n",
    "result_data_6_list = []\n",
    "for year in range(start_year,end_year):\n",
    "    fn = 'case6.clm2.h1.' + '%04.0f' % year + '-02-01-00000.nc'\n",
    "    if(os.path.exists(path_6+fn)):\n",
    "        ds = xr.open_dataset(path_6+fn)\n",
    "        FIRA = ds['FIRA_U'].mean().values\n",
    "        FSA = ds['FSA_U'].mean().values\n",
    "        FSH = ds['FSH_U'].mean().values\n",
    "        EFLX = ds['EFLX_LH_TOT_U'].mean().values\n",
    "        FGR = ds['FGR_U'].mean().values\n",
    "        AC = ds['URBAN_AC'].where(mask).mean().values\n",
    "        HEAT = ds['URBAN_HEAT'].where(mask).mean().values\n",
    "        WASTEHEAT = ds['WASTEHEAT'].where(mask).mean().values\n",
    "        \n",
    "        year_data = {\n",
    "            'year': year,\n",
    "            'FIRA6': FIRA,\n",
    "            'FSA6': FSA,\n",
    "            'FSH6': FSH,\n",
    "            'EFLX6': EFLX,\n",
    "            'AC6': AC,\n",
    "            'HEAT6': HEAT,\n",
    "            'WASTEHEAT6': WASTEHEAT,\n",
    "            'AHF6': HEAT + WASTEHEAT,\n",
    "            'FGR6': FGR\n",
    "        }\n",
    "    result_data_6_list.append(year_data)\n",
    "\n",
    "result_data_6 = pd.DataFrame(result_data_6_list)"
   ]
  },
  {
   "cell_type": "code",
   "execution_count": 15,
   "metadata": {},
   "outputs": [],
   "source": [
    "result_data_6.to_csv('flux6.csv')"
   ]
  },
  {
   "cell_type": "code",
   "execution_count": null,
   "metadata": {},
   "outputs": [],
   "source": []
  }
 ],
 "metadata": {
  "kernelspec": {
   "display_name": "Python 3 (ipykernel)",
   "language": "python",
   "name": "python3"
  },
  "language_info": {
   "codemirror_mode": {
    "name": "ipython",
    "version": 3
   },
   "file_extension": ".py",
   "mimetype": "text/x-python",
   "name": "python",
   "nbconvert_exporter": "python",
   "pygments_lexer": "ipython3",
   "version": "3.9.13"
  }
 },
 "nbformat": 4,
 "nbformat_minor": 4
}
