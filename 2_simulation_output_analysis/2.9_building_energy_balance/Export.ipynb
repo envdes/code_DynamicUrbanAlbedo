{
 "cells": [
  {
   "cell_type": "markdown",
   "id": "418654b9-11c8-4154-9d7b-9d5cf64d6698",
   "metadata": {},
   "source": [
    "# Export urban hac reductions\n",
    "- This script is used to export AC+HEAT reduction data;\n",
    "- Simulations: CNTL, ROOF_0.9, ROOF_TV, IMPRAOD_TV, WALL_TV, ROOF_IMPROAD_TV, ROOF_IMPROAD_WALL_TV;"
   ]
  },
  {
   "cell_type": "code",
   "execution_count": 1,
   "id": "06fa7125-239b-461e-8ecd-3b9e43a13418",
   "metadata": {},
   "outputs": [],
   "source": [
    "import os\n",
    "import xarray as xr\n",
    "import numpy as np\n",
    "import pandas as pd"
   ]
  },
  {
   "cell_type": "code",
   "execution_count": 10,
   "id": "1155d24c-9165-41bf-aa21-6f45552e2b62",
   "metadata": {},
   "outputs": [],
   "source": [
    "path = '/work/n02/n02/yuansun/cesm/'\n",
    "#case0\n",
    "path_0 = path + 'archive/case0/lnd/hist/'\n",
    "#case1\n",
    "path_1 = path + 'archive/case1/lnd/hist/'\n",
    "#case2\n",
    "path_2 = path + 'archive/case2/lnd/hist/'\n",
    "#case3\n",
    "path_3 = path + 'archive/case3/lnd/hist/'\n",
    "#case4\n",
    "path_4 = path + 'archive/case4/lnd/hist/'\n",
    "#case5\n",
    "path_5 = path + 'archive/case5/lnd/hist/'\n",
    "#case6\n",
    "path_6 = path + 'archive/case6/lnd/hist/'\n",
    "# surface\n",
    "sfile = path + 'cesm_inputdata/lnd/clm2/surfdata_map/release-clm5.0.18/surfdata_0.9x1.25_hist_16pfts_Irrig_CMIP6_simyr1850_c190214.nc'"
   ]
  },
  {
   "cell_type": "code",
   "execution_count": 3,
   "id": "e49d2575-83ac-4d11-8611-df64119067fc",
   "metadata": {},
   "outputs": [],
   "source": [
    "start_year = 2015\n",
    "end_year = 2100\n",
    "ds_0 = xr.open_dataset(sfile)\n",
    "mask = np.any(ds_0['PCT_URBAN'] != 0, axis=0)\n",
    "mask = mask.rename({'lsmlat': 'lat', 'lsmlon': 'lon'})"
   ]
  },
  {
   "cell_type": "code",
   "execution_count": 5,
   "id": "06acac45-1cd9-444f-83ea-149a584d11d4",
   "metadata": {},
   "outputs": [],
   "source": [
    "# case0\n",
    "result_data_0_list = pd.DataFrame()\n",
    "for year in range(start_year,end_year):\n",
    "    fn = 'case0.clm2.h1.' + '%04.0f' % year + '-02-01-00000.nc'\n",
    "    if(os.path.exists(path_0+fn)):\n",
    "       ds = xr.open_dataset(path_0+fn)\n",
    "       AC = ds['URBAN_AC'].where(mask).mean(axis=(0, 2)).to_dataframe('AC')\n",
    "       HEAT = ds['URBAN_HEAT'].where(mask).mean(axis=(0, 2)).to_dataframe('HEAT')\n",
    "       HAC = (ds['URBAN_AC'] + ds['URBAN_HEAT']).where(mask).mean(axis=(0, 2)).to_dataframe('HAC')\n",
    "       year_data = pd.DataFrame()\n",
    "       year_data = pd.concat([AC['AC'], HEAT['HEAT'], HAC['HAC']], axis=1).reset_index()\n",
    "       year_data['year'] = year\n",
    "       result_data_0_list  = pd.concat([result_data_0_list , year_data], ignore_index=True)"
   ]
  },
  {
   "cell_type": "code",
   "execution_count": 76,
   "id": "9ff36954-5cad-442d-822a-fa7d955cae8e",
   "metadata": {},
   "outputs": [],
   "source": [
    "result_data_0_list.to_csv('hete_lat0.csv')"
   ]
  },
  {
   "cell_type": "code",
   "execution_count": 70,
   "id": "747d35b9-6594-4321-8365-dd38daacf1a6",
   "metadata": {},
   "outputs": [],
   "source": [
    "# case2\n",
    "result_data_2_list = pd.DataFrame()\n",
    "for year in range(start_year,end_year):\n",
    "    fn = 'case2.clm2.h1.' + '%04.0f' % year + '-02-01-00000.nc'\n",
    "    if(os.path.exists(path_2+fn)):\n",
    "       ds = xr.open_dataset(path_2+fn)\n",
    "       AC = ds['URBAN_AC'].where(mask).mean(axis=(0, 2)).to_dataframe('AC')\n",
    "       HEAT = ds['URBAN_HEAT'].where(mask).mean(axis=(0, 2)).to_dataframe('HEAT')\n",
    "       HAC = (ds['URBAN_AC'] + ds['URBAN_HEAT']).where(mask).mean(axis=(0, 2)).to_dataframe('HAC')\n",
    "       year_data = pd.DataFrame()\n",
    "       year_data = pd.concat([AC['AC'], HEAT['HEAT'], HAC['HAC']], axis=1).reset_index()\n",
    "       year_data['year'] = year\n",
    "       result_data_2_list  = pd.concat([result_data_2_list , year_data], ignore_index=True)"
   ]
  },
  {
   "cell_type": "code",
   "execution_count": 71,
   "id": "7a4dc1ed-267a-4f63-8183-99720a8f2fe3",
   "metadata": {},
   "outputs": [],
   "source": [
    "result_data_2_list.to_csv('hete_lat2.csv')"
   ]
  },
  {
   "cell_type": "code",
   "execution_count": 72,
   "id": "d044e548-abfb-44cb-ad64-2399e1aa684d",
   "metadata": {},
   "outputs": [],
   "source": [
    "# case3\n",
    "result_data_3_list = pd.DataFrame()\n",
    "for year in range(start_year,end_year):\n",
    "    fn = 'case3.clm2.h1.' + '%04.0f' % year + '-02-01-00000.nc'\n",
    "    if(os.path.exists(path_3+fn)):\n",
    "       ds = xr.open_dataset(path_3+fn)\n",
    "       AC = ds['URBAN_AC'].where(mask).mean(axis=(0, 2)).to_dataframe('AC')\n",
    "       HEAT = ds['URBAN_HEAT'].where(mask).mean(axis=(0, 2)).to_dataframe('HEAT')\n",
    "       HAC = (ds['URBAN_AC'] + ds['URBAN_HEAT']).where(mask).mean(axis=(0, 2)).to_dataframe('HAC')\n",
    "       year_data = pd.DataFrame()\n",
    "       year_data = pd.concat([AC['AC'], HEAT['HEAT'], HAC['HAC']], axis=1).reset_index()\n",
    "       year_data['year'] = year\n",
    "       result_data_3_list  = pd.concat([result_data_3_list , year_data], ignore_index=True)"
   ]
  },
  {
   "cell_type": "code",
   "execution_count": 73,
   "id": "1e49a7b2-74e7-4643-a5fd-aa8e181e23b3",
   "metadata": {},
   "outputs": [],
   "source": [
    "result_data_3_list .to_csv('hete_lat3.csv')"
   ]
  },
  {
   "cell_type": "code",
   "execution_count": 74,
   "id": "a65f53d4-1572-4711-8603-23a785b8854b",
   "metadata": {},
   "outputs": [],
   "source": [
    "# case5\n",
    "result_data_5_list = pd.DataFrame()\n",
    "for year in range(start_year,end_year):\n",
    "    fn = 'case5.clm2.h1.' + '%04.0f' % year + '-02-01-00000.nc'\n",
    "    if(os.path.exists(path_5+fn)):\n",
    "       ds = xr.open_dataset(path_5+fn)\n",
    "       AC = ds['URBAN_AC'].where(mask).mean(axis=(0, 2)).to_dataframe('AC')\n",
    "       HEAT = ds['URBAN_HEAT'].where(mask).mean(axis=(0, 2)).to_dataframe('HEAT')\n",
    "       HAC = (ds['URBAN_AC'] + ds['URBAN_HEAT']).where(mask).mean(axis=(0, 2)).to_dataframe('HAC')\n",
    "       year_data = pd.DataFrame()\n",
    "       year_data = pd.concat([AC['AC'], HEAT['HEAT'], HAC['HAC']], axis=1).reset_index()\n",
    "       year_data['year'] = year\n",
    "       result_data_5_list  = pd.concat([result_data_5_list , year_data], ignore_index=True)"
   ]
  },
  {
   "cell_type": "code",
   "execution_count": 75,
   "id": "f9b3117a-d614-486b-adb8-f30ae7667542",
   "metadata": {},
   "outputs": [],
   "source": [
    "result_data_5_list .to_csv('hete_lat5.csv')"
   ]
  },
  {
   "cell_type": "code",
   "execution_count": 6,
   "id": "e89d858c-4677-4597-ba02-cb8a0a6e3d84",
   "metadata": {},
   "outputs": [],
   "source": [
    "# case4\n",
    "result_data_4_list = pd.DataFrame()\n",
    "for year in range(start_year,end_year):\n",
    "    fn = 'case4.clm2.h1.' + '%04.0f' % year + '-02-01-00000.nc'\n",
    "    if(os.path.exists(path_4+fn)):\n",
    "       ds = xr.open_dataset(path_4+fn)\n",
    "       AC = ds['URBAN_AC'].where(mask).mean(axis=(0, 2)).to_dataframe('AC')\n",
    "       HEAT = ds['URBAN_HEAT'].where(mask).mean(axis=(0, 2)).to_dataframe('HEAT')\n",
    "       HAC = (ds['URBAN_AC'] + ds['URBAN_HEAT']).where(mask).mean(axis=(0, 2)).to_dataframe('HAC')\n",
    "       year_data = pd.DataFrame()\n",
    "       year_data = pd.concat([AC['AC'], HEAT['HEAT'], HAC['HAC']], axis=1).reset_index()\n",
    "       year_data['year'] = year\n",
    "       result_data_4_list  = pd.concat([result_data_4_list , year_data], ignore_index=True)"
   ]
  },
  {
   "cell_type": "code",
   "execution_count": 7,
   "id": "ec224f67-e1a8-4dd3-bd0b-01a71b549917",
   "metadata": {},
   "outputs": [],
   "source": [
    "result_data_4_list .to_csv('hete_lat4.csv')"
   ]
  },
  {
   "cell_type": "code",
   "execution_count": 8,
   "id": "e0b6b7d5-e3c2-4889-9b0c-6bd52924a634",
   "metadata": {},
   "outputs": [],
   "source": [
    "# case6\n",
    "result_data_6_list = pd.DataFrame()\n",
    "for year in range(start_year,end_year):\n",
    "    fn = 'case6.clm2.h1.' + '%04.0f' % year + '-02-01-00000.nc'\n",
    "    if(os.path.exists(path_6+fn)):\n",
    "       ds = xr.open_dataset(path_6+fn)\n",
    "       AC = ds['URBAN_AC'].where(mask).mean(axis=(0, 2)).to_dataframe('AC')\n",
    "       HEAT = ds['URBAN_HEAT'].where(mask).mean(axis=(0, 2)).to_dataframe('HEAT')\n",
    "       HAC = (ds['URBAN_AC'] + ds['URBAN_HEAT']).where(mask).mean(axis=(0, 2)).to_dataframe('HAC')\n",
    "       year_data = pd.DataFrame()\n",
    "       year_data = pd.concat([AC['AC'], HEAT['HEAT'], HAC['HAC']], axis=1).reset_index()\n",
    "       year_data['year'] = year\n",
    "       result_data_6_list  = pd.concat([result_data_6_list , year_data], ignore_index=True)"
   ]
  },
  {
   "cell_type": "code",
   "execution_count": 9,
   "id": "17f6a362-1879-4f45-93c1-e9ab9685a1b8",
   "metadata": {},
   "outputs": [],
   "source": [
    "result_data_6_list .to_csv('hete_lat6.csv')"
   ]
  },
  {
   "cell_type": "code",
   "execution_count": 11,
   "id": "74e8be50-b34b-498b-bdb1-a884b5a4e3c2",
   "metadata": {},
   "outputs": [],
   "source": [
    "# case1\n",
    "result_data_1_list = pd.DataFrame()\n",
    "for year in range(start_year,end_year):\n",
    "    fn = 'case1.clm2.h1.' + '%04.0f' % year + '-02-01-00000.nc'\n",
    "    if(os.path.exists(path_1+fn)):\n",
    "       ds = xr.open_dataset(path_1+fn)\n",
    "       AC = ds['URBAN_AC'].where(mask).mean(axis=(0, 2)).to_dataframe('AC')\n",
    "       HEAT = ds['URBAN_HEAT'].where(mask).mean(axis=(0, 2)).to_dataframe('HEAT')\n",
    "       HAC = (ds['URBAN_AC'] + ds['URBAN_HEAT']).where(mask).mean(axis=(0, 2)).to_dataframe('HAC')\n",
    "       year_data = pd.DataFrame()\n",
    "       year_data = pd.concat([AC['AC'], HEAT['HEAT'], HAC['HAC']], axis=1).reset_index()\n",
    "       year_data['year'] = year\n",
    "       result_data_1_list  = pd.concat([result_data_1_list , year_data], ignore_index=True)"
   ]
  },
  {
   "cell_type": "code",
   "execution_count": 13,
   "id": "fee8c15e-9925-40c2-819a-f07d0ca52969",
   "metadata": {},
   "outputs": [],
   "source": [
    "result_data_1_list .to_csv('hete_lat1.csv')"
   ]
  },
  {
   "cell_type": "code",
   "execution_count": null,
   "id": "a4392eac-333a-4dbe-bd5b-d1693bacf0c8",
   "metadata": {},
   "outputs": [],
   "source": []
  }
 ],
 "metadata": {
  "kernelspec": {
   "display_name": "Python 3 (ipykernel)",
   "language": "python",
   "name": "python3"
  },
  "language_info": {
   "codemirror_mode": {
    "name": "ipython",
    "version": 3
   },
   "file_extension": ".py",
   "mimetype": "text/x-python",
   "name": "python",
   "nbconvert_exporter": "python",
   "pygments_lexer": "ipython3",
   "version": "3.9.13"
  }
 },
 "nbformat": 4,
 "nbformat_minor": 5
}
