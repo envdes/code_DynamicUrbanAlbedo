{
 "cells": [
  {
   "cell_type": "markdown",
   "id": "418654b9-11c8-4154-9d7b-9d5cf64d6698",
   "metadata": {},
   "source": [
    "# Export urban hac reductions\n",
    "- This script is used to export AC+HEAT reduction data;\n",
    "- Simulations: CNTL, ROOF_0.9, ROOF_TV, IMPRAOD_TV, WALL_TV, ROOF_IMPROAD_TV, ROOF_IMPROAD_WALL_TV;"
   ]
  },
  {
   "cell_type": "code",
   "execution_count": 1,
   "id": "06fa7125-239b-461e-8ecd-3b9e43a13418",
   "metadata": {},
   "outputs": [],
   "source": [
    "import os\n",
    "import xarray as xr\n",
    "import numpy as np\n",
    "import pandas as pd"
   ]
  },
  {
   "cell_type": "code",
   "execution_count": 10,
   "id": "1155d24c-9165-41bf-aa21-6f45552e2b62",
   "metadata": {},
   "outputs": [],
   "source": [
    "home_path = '/work/n02/n02/yuansun/'\n",
    "#case0\n",
    "path_0 = home_path + 'cesm/archive/case0/lnd/hist/'\n",
    "#case1\n",
    "path_1 = home_path + 'cesm/archive/case1/lnd/hist/'\n",
    "#case2\n",
    "path_2 = home_path + 'cesm/archive/case2/lnd/hist/'\n",
    "#case3\n",
    "path_3 = home_path + 'cesm/archive/case3/lnd/hist/'\n",
    "#case4\n",
    "path_4 = home_path + 'cesm/archive/case4/lnd/hist/'\n",
    "#case5\n",
    "path_5 = home_path + 'cesm/archive/case5/lnd/hist/'\n",
    "#case6\n",
    "path_6 = home_path + 'cesm/archive/case6/lnd/hist/'\n",
    "# surface\n",
    "sfile = home_path + 'cesm/cesm_inputdata/lnd/clm2/surfdata_map/release-clm5.0.18/surfdata_0.9x1.25_hist_16pfts_Irrig_CMIP6_simyr1850_c190214.nc'"
   ]
  },
  {
   "cell_type": "code",
   "execution_count": 3,
   "id": "e49d2575-83ac-4d11-8611-df64119067fc",
   "metadata": {},
   "outputs": [],
   "source": [
    "start_year = 2015\n",
    "end_year = 2100\n",
    "ds_0 = xr.open_dataset(sfile)\n",
    "mask = np.any(ds_0['PCT_URBAN'] != 0, axis=0)\n",
    "mask = mask.rename({'lsmlat': 'lat', 'lsmlon': 'lon'})"
   ]
  },
  {
   "cell_type": "code",
   "execution_count": 5,
   "id": "06acac45-1cd9-444f-83ea-149a584d11d4",
   "metadata": {},
   "outputs": [],
   "source": [
    "# case0\n",
    "result_data_0_list = pd.DataFrame()\n",
    "for year in range(start_year,end_year):\n",
    "    fn = 'case0.clm2.h1.' + '%04.0f' % year + '-02-01-00000.nc'\n",
    "    if(os.path.exists(path_0+fn)):\n",
    "       ds = xr.open_dataset(path_0+fn)\n",
    "       AC = ds['URBAN_AC'].where(mask).mean(axis=(0, 2)).to_dataframe('AC')\n",
    "       HEAT = ds['URBAN_HEAT'].where(mask).mean(axis=(0, 2)).to_dataframe('HEAT')\n",
    "       HAC = (ds['URBAN_AC'] + ds['URBAN_HEAT']).where(mask).mean(axis=(0, 2)).to_dataframe('HAC')\n",
    "       year_data = pd.DataFrame()\n",
    "       year_data = pd.concat([AC['AC'], HEAT['HEAT'], HAC['HAC']], axis=1).reset_index()\n",
    "       year_data['year'] = year\n",
    "       result_data_0_list  = pd.concat([result_data_0_list , year_data], ignore_index=True)\n",
    "result_data_0_list.to_csv('hete_lat0.csv')       "
   ]
  },
  {
   "cell_type": "code",
   "execution_count": 70,
   "id": "747d35b9-6594-4321-8365-dd38daacf1a6",
   "metadata": {},
   "outputs": [],
   "source": [
    "# case2\n",
    "result_data_2_list = pd.DataFrame()\n",
    "for year in range(start_year,end_year):\n",
    "    fn = 'case2.clm2.h1.' + '%04.0f' % year + '-02-01-00000.nc'\n",
    "    if(os.path.exists(path_2+fn)):\n",
    "       ds = xr.open_dataset(path_2+fn)\n",
    "       AC = ds['URBAN_AC'].where(mask).mean(axis=(0, 2)).to_dataframe('AC')\n",
    "       HEAT = ds['URBAN_HEAT'].where(mask).mean(axis=(0, 2)).to_dataframe('HEAT')\n",
    "       HAC = (ds['URBAN_AC'] + ds['URBAN_HEAT']).where(mask).mean(axis=(0, 2)).to_dataframe('HAC')\n",
    "       year_data = pd.DataFrame()\n",
    "       year_data = pd.concat([AC['AC'], HEAT['HEAT'], HAC['HAC']], axis=1).reset_index()\n",
    "       year_data['year'] = year\n",
    "       result_data_2_list  = pd.concat([result_data_2_list , year_data], ignore_index=True)\n",
    "result_data_2_list.to_csv('hete_lat2.csv')       "
   ]
  },
  {
   "cell_type": "code",
   "execution_count": 72,
   "id": "d044e548-abfb-44cb-ad64-2399e1aa684d",
   "metadata": {},
   "outputs": [],
   "source": [
    "# case3\n",
    "result_data_3_list = pd.DataFrame()\n",
    "for year in range(start_year,end_year):\n",
    "    fn = 'case3.clm2.h1.' + '%04.0f' % year + '-02-01-00000.nc'\n",
    "    if(os.path.exists(path_3+fn)):\n",
    "       ds = xr.open_dataset(path_3+fn)\n",
    "       AC = ds['URBAN_AC'].where(mask).mean(axis=(0, 2)).to_dataframe('AC')\n",
    "       HEAT = ds['URBAN_HEAT'].where(mask).mean(axis=(0, 2)).to_dataframe('HEAT')\n",
    "       HAC = (ds['URBAN_AC'] + ds['URBAN_HEAT']).where(mask).mean(axis=(0, 2)).to_dataframe('HAC')\n",
    "       year_data = pd.DataFrame()\n",
    "       year_data = pd.concat([AC['AC'], HEAT['HEAT'], HAC['HAC']], axis=1).reset_index()\n",
    "       year_data['year'] = year\n",
    "       result_data_3_list  = pd.concat([result_data_3_list , year_data], ignore_index=True)\n",
    "result_data_3_list .to_csv('hete_lat3.csv')       "
   ]
  },
  {
   "cell_type": "code",
   "execution_count": 74,
   "id": "a65f53d4-1572-4711-8603-23a785b8854b",
   "metadata": {},
   "outputs": [],
   "source": [
    "# case5\n",
    "result_data_5_list = pd.DataFrame()\n",
    "for year in range(start_year,end_year):\n",
    "    fn = 'case5.clm2.h1.' + '%04.0f' % year + '-02-01-00000.nc'\n",
    "    if(os.path.exists(path_5+fn)):\n",
    "       ds = xr.open_dataset(path_5+fn)\n",
    "       AC = ds['URBAN_AC'].where(mask).mean(axis=(0, 2)).to_dataframe('AC')\n",
    "       HEAT = ds['URBAN_HEAT'].where(mask).mean(axis=(0, 2)).to_dataframe('HEAT')\n",
    "       HAC = (ds['URBAN_AC'] + ds['URBAN_HEAT']).where(mask).mean(axis=(0, 2)).to_dataframe('HAC')\n",
    "       year_data = pd.DataFrame()\n",
    "       year_data = pd.concat([AC['AC'], HEAT['HEAT'], HAC['HAC']], axis=1).reset_index()\n",
    "       year_data['year'] = year\n",
    "       result_data_5_list  = pd.concat([result_data_5_list , year_data], ignore_index=True)\n",
    "result_data_5_list .to_csv('hete_lat5.csv')       "
   ]
  },
  {
   "cell_type": "code",
   "execution_count": 6,
   "id": "e89d858c-4677-4597-ba02-cb8a0a6e3d84",
   "metadata": {},
   "outputs": [],
   "source": [
    "# case4\n",
    "result_data_4_list = pd.DataFrame()\n",
    "for year in range(start_year,end_year):\n",
    "    fn = 'case4.clm2.h1.' + '%04.0f' % year + '-02-01-00000.nc'\n",
    "    if(os.path.exists(path_4+fn)):\n",
    "       ds = xr.open_dataset(path_4+fn)\n",
    "       AC = ds['URBAN_AC'].where(mask).mean(axis=(0, 2)).to_dataframe('AC')\n",
    "       HEAT = ds['URBAN_HEAT'].where(mask).mean(axis=(0, 2)).to_dataframe('HEAT')\n",
    "       HAC = (ds['URBAN_AC'] + ds['URBAN_HEAT']).where(mask).mean(axis=(0, 2)).to_dataframe('HAC')\n",
    "       year_data = pd.DataFrame()\n",
    "       year_data = pd.concat([AC['AC'], HEAT['HEAT'], HAC['HAC']], axis=1).reset_index()\n",
    "       year_data['year'] = year\n",
    "       result_data_4_list  = pd.concat([result_data_4_list , year_data], ignore_index=True)\n",
    "result_data_4_list .to_csv('hete_lat4.csv')       "
   ]
  },
  {
   "cell_type": "code",
   "execution_count": 8,
   "id": "e0b6b7d5-e3c2-4889-9b0c-6bd52924a634",
   "metadata": {},
   "outputs": [],
   "source": [
    "# case6\n",
    "result_data_6_list = pd.DataFrame()\n",
    "for year in range(start_year,end_year):\n",
    "    fn = 'case6.clm2.h1.' + '%04.0f' % year + '-02-01-00000.nc'\n",
    "    if(os.path.exists(path_6+fn)):\n",
    "       ds = xr.open_dataset(path_6+fn)\n",
    "       AC = ds['URBAN_AC'].where(mask).mean(axis=(0, 2)).to_dataframe('AC')\n",
    "       HEAT = ds['URBAN_HEAT'].where(mask).mean(axis=(0, 2)).to_dataframe('HEAT')\n",
    "       HAC = (ds['URBAN_AC'] + ds['URBAN_HEAT']).where(mask).mean(axis=(0, 2)).to_dataframe('HAC')\n",
    "       year_data = pd.DataFrame()\n",
    "       year_data = pd.concat([AC['AC'], HEAT['HEAT'], HAC['HAC']], axis=1).reset_index()\n",
    "       year_data['year'] = year\n",
    "       result_data_6_list  = pd.concat([result_data_6_list , year_data], ignore_index=True)\n",
    "result_data_6_list .to_csv('hete_lat6.csv')       "
   ]
  },
  {
   "cell_type": "code",
   "execution_count": 11,
   "id": "74e8be50-b34b-498b-bdb1-a884b5a4e3c2",
   "metadata": {},
   "outputs": [],
   "source": [
    "# case1\n",
    "result_data_1_list = pd.DataFrame()\n",
    "for year in range(start_year,end_year):\n",
    "    fn = 'case1.clm2.h1.' + '%04.0f' % year + '-02-01-00000.nc'\n",
    "    if(os.path.exists(path_1+fn)):\n",
    "       ds = xr.open_dataset(path_1+fn)\n",
    "       AC = ds['URBAN_AC'].where(mask).mean(axis=(0, 2)).to_dataframe('AC')\n",
    "       HEAT = ds['URBAN_HEAT'].where(mask).mean(axis=(0, 2)).to_dataframe('HEAT')\n",
    "       HAC = (ds['URBAN_AC'] + ds['URBAN_HEAT']).where(mask).mean(axis=(0, 2)).to_dataframe('HAC')\n",
    "       year_data = pd.DataFrame()\n",
    "       year_data = pd.concat([AC['AC'], HEAT['HEAT'], HAC['HAC']], axis=1).reset_index()\n",
    "       year_data['year'] = year\n",
    "       result_data_1_list  = pd.concat([result_data_1_list , year_data], ignore_index=True)\n",
    "result_data_1_list .to_csv('hete_lat1.csv')       "
   ]
  }
 ],
 "metadata": {
  "kernelspec": {
   "display_name": "Python 3 (ipykernel)",
   "language": "python",
   "name": "python3"
  },
  "language_info": {
   "codemirror_mode": {
    "name": "ipython",
    "version": 3
   },
   "file_extension": ".py",
   "mimetype": "text/x-python",
   "name": "python",
   "nbconvert_exporter": "python",
   "pygments_lexer": "ipython3",
   "version": "3.9.13"
  }
 },
 "nbformat": 4,
 "nbformat_minor": 5
}
